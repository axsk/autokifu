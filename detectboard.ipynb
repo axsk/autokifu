{
 "metadata": {
  "name": "",
  "signature": "sha256:c49261f550c9bae6e31c2c36360db13a1b0508c8c19f5fe361a58f77f2d07bc0"
 },
 "nbformat": 3,
 "nbformat_minor": 0,
 "worksheets": [
  {
   "cells": [
    {
     "cell_type": "code",
     "collapsed": false,
     "input": [
      "%matplotlib inline\n",
      "import numpy as np\n",
      "import cv2\n",
      "from matplotlib import pyplot as plt\n",
      "import inspect\n",
      "\n",
      "DEBUGPLOT = 1\n",
      "def dplt(image):\n",
      "    if not DEBUGPLOT: return\n",
      "    print inspect.stack()[1]\n",
      "    plt.imshow(image, interpolation = 'bicubic')\n",
      "    plt.xticks([]), plt.yticks([])  # to hide tick values on X and Y axis\n",
      "    plt.show()\n",
      "    return image\n",
      "    \n",
      "img = img = cv2.imread('gob3.jpg')"
     ],
     "language": "python",
     "metadata": {},
     "outputs": []
    },
    {
     "cell_type": "code",
     "collapsed": true,
     "input": [
      "def centermask(img, size):\n",
      "    # compute offsets\n",
      "    off=np.array((np.array(img.shape) *  (1-size) / 2),np.uint)\n",
      "    mask = np.zeros(img.shape[:2], np.uint8)\n",
      "    mask[off[0]:mask.shape[0]-off[0], off[1]:mask.shape[1]-off[1]] = 255\n",
      "    dplt(mask)\n",
      "    return mask\n",
      "\n",
      "def centercut(img, size):\n",
      "    off=np.array((np.array(img.shape) *  (1-size) / 2),np.uint)\n",
      "    cut = img[off[0]:img.shape[0]-off[0], off[1]:img.shape[1]-off[1]]\n",
      "    dplt(cut)\n",
      "    return cut\n",
      "\n",
      "def histo(img, mask = None):\n",
      "    mask = np.ones(img.shape[:2], np.uint8)\n",
      "    hist_b = cv2.calcHist([img],[0],mask,[256],[0,256])\n",
      "    hist_g = cv2.calcHist([img],[1],mask,[256],[0,256])\n",
      "    hist_r = cv2.calcHist([img],[2],mask,[256],[0,256])\n",
      "    \n",
      "    plt.plot(hist_b), plt.plot(hist_g), plt.plot(hist_r)\n",
      "    plt.xlim([0,256])\n",
      "    plt.ylim([0,3000])    \n",
      "    plt.show()\n",
      "    \n",
      "center = centercut(img,0.3)\n",
      "histo(cv2.cvtColor(center, cv2.COLOR_BGR2HSV))"
     ],
     "language": "python",
     "metadata": {},
     "outputs": []
    },
    {
     "cell_type": "code",
     "collapsed": false,
     "input": [
      "def hsvmask(img, lower, upper):\n",
      "    img = cv2.GaussianBlur(img,(11,11),0)\n",
      "    hsv = cv2.cvtColor(img, cv2.COLOR_BGR2HSV)\n",
      "\n",
      "    rangemask = cv2.inRange(hsv, np.array(lower), np.array(upper))\n",
      "    dplt(rangemask)\n",
      "    return rangemask\n",
      "\n",
      "def getContour(img):\n",
      "    mask = np.zeros(img.shape,np.uint8)\n",
      "    cnts,hier = cv2.findContours(img,cv2.RETR_TREE,cv2.CHAIN_APPROX_SIMPLE) \n",
      "    cnt = max(cnts, key=lambda c: cv2.contourArea(c))    \n",
      "    cv2.drawContours(mask,[cnt],0,255,2)\n",
      "    dplt(mask)\n",
      "    return cnt\n",
      "\n",
      "def getCorners(cnt):\n",
      "    epsilon = 0.01*cv2.arcLength(cnt,True)\n",
      "    return cv2.approxPolyDP(cnt,epsilon,True)[:,0,:]   \n",
      "\n",
      "def warp(corners):\n",
      "    H = cv2.findHomography(np.array(corners, float), np.array([[0, 0],[0, 1000],[1000, 1000],[1000, 0]], float))\n",
      "    return dplt(cv2.warpPerspective(img,H[0],(1000,1000)))\n",
      "\n",
      "hsv = hsvmask(img,(0, 10, 1),(40, 140, 256));\n",
      "canny = cv2.dilate(cv2.Canny(img, 100, 150) , np.ones((10,10), np.uint8))\n",
      "filtered = dplt(cv2.bitwise_and(canny, hsv))\n",
      "contour = getContour(filtered)\n",
      "corners = getCorners(contour)\n",
      "warp(corners);"
     ],
     "language": "python",
     "metadata": {},
     "outputs": []
    },
    {
     "cell_type": "code",
     "collapsed": false,
     "input": [],
     "language": "python",
     "metadata": {},
     "outputs": []
    }
   ],
   "metadata": {}
  }
 ]
}